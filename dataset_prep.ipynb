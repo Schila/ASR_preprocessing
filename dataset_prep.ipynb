{
  "nbformat": 4,
  "nbformat_minor": 0,
  "metadata": {
    "colab": {
      "provenance": []
    },
    "kernelspec": {
      "name": "python3",
      "display_name": "Python 3"
    },
    "language_info": {
      "name": "python"
    }
  },
  "cells": [
    {
      "cell_type": "code",
      "execution_count": null,
      "metadata": {
        "id": "U-TxKXHkyKl6"
      },
      "outputs": [],
      "source": [
        "# шаг 1 - подготовка метаданных\n",
        "import pandas as pd"
      ]
    },
    {
      "cell_type": "code",
      "source": [
        "dftmp = pd.DataFrame({'file_name': [], 'transcription': []})\n",
        "dftmp"
      ],
      "metadata": {
        "id": "Mxh8Fjiry5xm"
      },
      "execution_count": null,
      "outputs": []
    },
    {
      "cell_type": "code",
      "source": [
        "import pathlib"
      ],
      "metadata": {
        "id": "_5vfKtNSzEV6"
      },
      "execution_count": null,
      "outputs": []
    },
    {
      "cell_type": "code",
      "source": [
        "#шаг 1 - узнать число итераций\n",
        "folder = pathlib.Path(\"/content/drive/MyDrive/folder/\") #путь к папке с файлами\n",
        "iter = len(list(folder.iterdir())) #узнать сколько файлов в папке\n",
        "#шаг 2 - заполняем датафрейм данными\n",
        "for i in range (1, iter+1): \n",
        "  f = open('/content/drive/MyDrive/folder/text' + str(i) + '_part.txt', 'r')\n",
        "  text = f.read()\n",
        "  f.close()\n",
        "  dftmp.loc[len(dftmp.index)] = ['text' + str(i) + '_part', text]"
      ],
      "metadata": {
        "id": "JRsTzhF9zPoa"
      },
      "execution_count": null,
      "outputs": []
    },
    {
      "cell_type": "code",
      "source": [
        "dftmp.to_csv(r'/content/drive/MyDrive/folder/Text/metadata.csv', index= False, sep = ',') "
      ],
      "metadata": {
        "id": "Gmck1J04zqT5"
      },
      "execution_count": null,
      "outputs": []
    },
    {
      "cell_type": "code",
      "source": [],
      "metadata": {
        "id": "_IyLkt0a3r4Q"
      },
      "execution_count": null,
      "outputs": []
    }
  ]
}