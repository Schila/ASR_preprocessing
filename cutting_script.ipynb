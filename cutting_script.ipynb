{
  "nbformat": 4,
  "nbformat_minor": 0,
  "metadata": {
    "colab": {
      "provenance": []
    },
    "kernelspec": {
      "name": "python3",
      "display_name": "Python 3"
    },
    "language_info": {
      "name": "python"
    }
  },
  "cells": [
    {
      "cell_type": "code",
      "execution_count": null,
      "metadata": {
        "id": "mZCscJSpvZ_A",
        "colab": {
          "base_uri": "https://localhost:8080/"
        },
        "outputId": "2915be12-b063-4996-ac1e-95253d743770"
      },
      "outputs": [
        {
          "output_type": "stream",
          "name": "stdout",
          "text": [
            "Looking in indexes: https://pypi.org/simple, https://us-python.pkg.dev/colab-wheels/public/simple/\n",
            "Collecting pydub\n",
            "  Downloading pydub-0.25.1-py2.py3-none-any.whl (32 kB)\n",
            "Installing collected packages: pydub\n",
            "Successfully installed pydub-0.25.1\n"
          ]
        }
      ],
      "source": [
        "pip install pydub"
      ]
    },
    {
      "cell_type": "code",
      "source": [
        "from pydub import AudioSegment"
      ],
      "metadata": {
        "id": "NzTQ6wjQwMqO"
      },
      "execution_count": null,
      "outputs": []
    },
    {
      "cell_type": "code",
      "source": [
        "from google.colab import drive\n",
        "drive.mount('/content/drive')"
      ],
      "metadata": {
        "id": "hb5OCxlDwNnd",
        "colab": {
          "base_uri": "https://localhost:8080/"
        },
        "outputId": "9be58412-c574-4544-aec4-bce483806036"
      },
      "execution_count": null,
      "outputs": [
        {
          "output_type": "stream",
          "name": "stdout",
          "text": [
            "Mounted at /content/drive\n"
          ]
        }
      ]
    },
    {
      "cell_type": "code",
      "source": [
        "audio = AudioSegment.from_mp3(\"/content/drive/MyDrive/name.mp3\")\n",
        "thirty_seconds = 30 * 1000\n",
        "for i in range(): # аудио длится N минут - это M секунд. делим на 30 - получаем range\n",
        "  thirty_seconds_part = audio[:thirty_seconds]\n",
        "  thirty_seconds_part.export(\"/content/drive/MyDrive/name_Sound_\" +str(i+1) + \"_part.mp3\", format=\"mp3\")\n",
        "  audio = audio[thirty_seconds:]"
      ],
      "metadata": {
        "id": "fXV4VnHBwUlM"
      },
      "execution_count": null,
      "outputs": []
    }
  ]
}