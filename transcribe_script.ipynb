{
  "nbformat": 4,
  "nbformat_minor": 0,
  "metadata": {
    "colab": {
      "provenance": []
    },
    "kernelspec": {
      "name": "python3",
      "display_name": "Python 3"
    },
    "language_info": {
      "name": "python"
    }
  },
  "cells": [
    {
      "cell_type": "code",
      "source": [
        "!pip install git+https://github.com/openai/whisper.git"
      ],
      "metadata": {
        "id": "90dMlaOwDkJL"
      },
      "execution_count": null,
      "outputs": []
    },
    {
      "cell_type": "code",
      "source": [
        "!git clone https://git.ffmpeg.org/ffmpeg.git ffmpeg"
      ],
      "metadata": {
        "id": "irVrEXcBDkkt"
      },
      "execution_count": null,
      "outputs": []
    },
    {
      "cell_type": "code",
      "execution_count": null,
      "metadata": {
        "id": "iLWE-uztwvWY"
      },
      "outputs": [],
      "source": [
        "import whisper"
      ]
    },
    {
      "cell_type": "code",
      "source": [
        "from google.colab import drive\n",
        "drive.mount('/content/drive')"
      ],
      "metadata": {
        "id": "4YfMaqlYDol4"
      },
      "execution_count": null,
      "outputs": []
    },
    {
      "cell_type": "code",
      "source": [
        "# транскрибировать все файлы\n",
        "def convert(audio, model_size='medium'): # tiny, base, small, medium, large          \n",
        "  model = whisper.load_model(model_size)\n",
        "  return model.transcribe(audio)['text']\n",
        "\n",
        "for i in range():\n",
        "    filename = r\"/path/to/audio\" + str(i) + \"_part.mp3\"\n",
        "    txt = convert(filename)\n",
        "    my_file = open(r\"/path/to/text\" + str(i) + \"_part.txt\", \"w+\")\n",
        "    my_file.write(txt)\n",
        "    my_file.close()"
      ],
      "metadata": {
        "id": "Ow6Gj4KRw9Hw"
      },
      "execution_count": null,
      "outputs": []
    },
    {
      "cell_type": "code",
      "source": [],
      "metadata": {
        "id": "WHfrgFfNC5zj"
      },
      "execution_count": null,
      "outputs": []
    },
    {
      "cell_type": "code",
      "source": [
        "#транскрибировать по одному файлу\n",
        "filename = \"/content/drive/MyDrive/name.mp3\""
      ],
      "metadata": {
        "id": "g4X1rS2zC_NG"
      },
      "execution_count": null,
      "outputs": []
    },
    {
      "cell_type": "code",
      "source": [
        "def convert(audio, model_size='medium'): # tiny, base, small, medium, large          \n",
        "  model = whisper.load_model(model_size)\n",
        "  return model.transcribe(audio)['text']"
      ],
      "metadata": {
        "id": "Mm7oaBIpC56c"
      },
      "execution_count": null,
      "outputs": []
    },
    {
      "cell_type": "code",
      "source": [
        "txt = convert(filename)"
      ],
      "metadata": {
        "id": "41hF2wAeC8yt"
      },
      "execution_count": null,
      "outputs": []
    },
    {
      "cell_type": "code",
      "source": [
        "my_file = open(\"/content/drive/MyDrive/name.txt\", \"w+\")\n",
        "my_file.write(txt)\n",
        "my_file.close()"
      ],
      "metadata": {
        "id": "jZ2JQsYuDXR9"
      },
      "execution_count": null,
      "outputs": []
    }
  ]
}